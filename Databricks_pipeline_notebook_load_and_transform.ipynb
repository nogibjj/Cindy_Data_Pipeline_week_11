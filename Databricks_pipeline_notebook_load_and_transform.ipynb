{
 "cells": [
  {
   "cell_type": "code",
   "execution_count": 0,
   "metadata": {
    "application/vnd.databricks.v1+cell": {
     "cellMetadata": {
      "byteLimit": 2048000,
      "rowLimit": 10000
     },
     "inputWidgets": {},
     "nuid": "6a8cf338-7a90-4fe7-b2a7-d995b5f19a42",
     "showTitle": false,
     "tableResultSettingsMap": {},
     "title": ""
    }
   },
   "outputs": [
    {
     "output_type": "stream",
     "name": "stdout",
     "output_type": "stream",
     "text": [
      "Data transformed successfully.\nTransformed data saved as Delta table: ids706_data_engineering.default.grad_students_transformed\n"
     ]
    }
   ],
   "source": [
    "from pyspark.sql import SparkSession\n",
    "from pyspark.sql import functions as F\n",
    "\n",
    "# Initialize Spark session\n",
    "spark = (\n",
    "    SparkSession.builder.appName(\"Transform Data\")\n",
    "    .config(\"spark.sql.catalogImplementation\", \"hive\")\n",
    "    .enableHiveSupport()\n",
    "    .getOrCreate()\n",
    ")\n",
    "\n",
    "\n",
    "# Load and transform data\n",
    "def load_and_transform() -> None:\n",
    "    raw_table = \"ids706_data_engineering.default.grad_students_raw\"\n",
    "    transformed_table = \"ids706_data_engineering.default.grad_students_transformed\"\n",
    "\n",
    "    # Load raw data from Delta table\n",
    "    df = spark.read.format(\"delta\").table(raw_table)\n",
    "\n",
    "    # Transform data\n",
    "    transformed_df = df.withColumn(\n",
    "        \"Employment_rate\", F.col(\"Grad_employed\") / F.col(\"Grad_total\")\n",
    "    ).withColumn(\n",
    "        \"Major_category_size\",\n",
    "        F.when(F.col(\"Grad_total\") > 10000, \"Large\").otherwise(\"Small\"),\n",
    "    )\n",
    "    print(\"Data transformed successfully.\")\n",
    "\n",
    "    # Save transformed data\n",
    "    transformed_df.write.format(\"delta\").mode(\"overwrite\").saveAsTable(\n",
    "        transformed_table\n",
    "    )\n",
    "    print(f\"Transformed data saved as Delta table: {transformed_table}\")\n",
    "\n",
    "\n",
    "# Execute transformation\n",
    "load_and_transform()\n"
   ]
  }
 ],
 "metadata": {
  "application/vnd.databricks.v1+notebook": {
   "dashboards": [],
   "environmentMetadata": {
    "base_environment": "",
    "client": "1"
   },
   "language": "python",
   "notebookMetadata": {
    "pythonIndentUnit": 2
   },
   "notebookName": "Databricks_pipeline_notebook_load_and_transform",
   "widgets": {}
  },
  "language_info": {
   "name": "python"
  }
 },
 "nbformat": 4,
 "nbformat_minor": 0
}
