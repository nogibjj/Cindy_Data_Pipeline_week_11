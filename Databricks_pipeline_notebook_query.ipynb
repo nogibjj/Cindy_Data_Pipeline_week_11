{
 "cells": [
  {
   "cell_type": "code",
   "execution_count": 0,
   "metadata": {
    "application/vnd.databricks.v1+cell": {
     "cellMetadata": {
      "byteLimit": 2048000,
      "rowLimit": 10000
     },
     "inputWidgets": {},
     "nuid": "5b47914b-3cc5-4fe7-8f34-c0685506f90b",
     "showTitle": false,
     "tableResultSettingsMap": {},
     "title": ""
    }
   },
   "outputs": [
    {
     "output_type": "stream",
     "name": "stdout",
     "output_type": "stream",
     "text": [
      "+----------+--------------------+--------------------+----------+-------------+---------------+----------------------+----------+------------+------------------+-------------------+\n|Major_code|               Major|      Major_category|Grad_total|Grad_employed|Grad_unemployed|Grad_unemployment_rate|Grad_share|Grad_premium|   Employment_rate|Major_category_size|\n+----------+--------------------+--------------------+----------+-------------+---------------+----------------------+----------+------------+------------------+-------------------+\n|      2407|COMPUTER ENGINEERING|         Engineering|     82102|        73147|           1592|           0.021300793|0.36755726|  0.19753087|0.8909283574090765|              Large|\n|      4000|MULTI/INTERDISCIP...|   Interdisciplinary|     14405|        12708|            261|           0.020124912|0.25991014|        0.25|0.8821936827490454|              Large|\n|      2404|BIOMEDICAL ENGINE...|         Engineering|     22155|        19474|            366|           0.018447582| 0.6418576|   0.2857143|0.8789889415481833|              Large|\n|      1301|ENVIRONMENTAL SCI...|Biology & Life Sc...|     43612|        38068|           1392|            0.03527623|0.31576356|  0.23636363|0.8728790241218013|              Large|\n|      3611|        NEUROSCIENCE|Biology & Life Sc...|     14429|        12551|            225|           0.017611146| 0.6735599|        0.45|0.8698454501351445|              Large|\n|      4101|PHYSICAL FITNESS ...|Industrial Arts &...|    119489|       103790|           2696|           0.025317881|0.28696415|  0.33333334|0.8686155210939919|              Large|\n|      2105|INFORMATION SCIENCES|Computers & Mathe...|     25799|        22403|           1179|           0.049995758|0.25832322|         0.2|0.8683669909686422|              Large|\n|      2102|    COMPUTER SCIENCE|Computers & Mathe...|    324402|       281088|          10557|           0.036198117| 0.3048934|      0.1875|0.8664804779255368|              Large|\n|      6109|TREATMENT THERAPY...|              Health|    142285|       123279|           2185|           0.017415354|0.37737677|  0.11111111|0.8664230242119689|              Large|\n|      5001|ASTRONOMY AND AST...|   Physical Sciences|      6331|         5480|            112|           0.020028612| 0.6188661|  0.12941177|0.8655820565471489|              Small|\n+----------+--------------------+--------------------+----------+-------------+---------------+----------------------+----------+------------+------------------+-------------------+\n\nSQL query executed successfully.\n"
     ]
    }
   ],
   "source": [
    "from pyspark.sql import SparkSession\n",
    "\n",
    "# Initialize Spark session\n",
    "spark = (\n",
    "    SparkSession.builder.appName(\"Query Data\")\n",
    "    .config(\"spark.sql.catalogImplementation\", \"hive\")\n",
    "    .enableHiveSupport()\n",
    "    .getOrCreate()\n",
    ")\n",
    "\n",
    "\n",
    "# Query Delta table\n",
    "def query_delta_table() -> None:\n",
    "    transformed_table = \"ids706_data_engineering.default.grad_students_transformed\"\n",
    "\n",
    "    query = f\"\"\"\n",
    "    SELECT \n",
    "        Major_code,\n",
    "        Major,\n",
    "        Major_category,\n",
    "        Grad_total,\n",
    "        Grad_employed,\n",
    "        Grad_unemployed,\n",
    "        Grad_unemployment_rate,\n",
    "        Grad_share,\n",
    "        Grad_premium,\n",
    "        Employment_rate,\n",
    "        Major_category_size\n",
    "    FROM \n",
    "        {transformed_table}\n",
    "    WHERE \n",
    "        Employment_rate IS NOT NULL\n",
    "    ORDER BY \n",
    "        Employment_rate DESC\n",
    "    LIMIT 10\n",
    "    \"\"\"\n",
    "    result = spark.sql(query)\n",
    "    result.show()\n",
    "    print(\"SQL query executed successfully.\")\n",
    "\n",
    "\n",
    "# Execute query\n",
    "query_delta_table()"
   ]
  }
 ],
 "metadata": {
  "application/vnd.databricks.v1+notebook": {
   "dashboards": [],
   "environmentMetadata": {
    "base_environment": "",
    "client": "1"
   },
   "language": "python",
   "notebookMetadata": {
    "pythonIndentUnit": 2
   },
   "notebookName": "Databricks_pipeline_notebook_query",
   "widgets": {}
  },
  "language_info": {
   "name": "python"
  }
 },
 "nbformat": 4,
 "nbformat_minor": 0
}
